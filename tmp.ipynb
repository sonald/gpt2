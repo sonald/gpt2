{
 "cells": [
  {
   "cell_type": "code",
   "execution_count": 2,
   "metadata": {},
   "outputs": [
    {
     "name": "stderr",
     "output_type": "stream",
     "text": [
      "/home/uos/miniconda3/envs/vllm/lib/python3.10/site-packages/tqdm/auto.py:21: TqdmWarning: IProgress not found. Please update jupyter and ipywidgets. See https://ipywidgets.readthedocs.io/en/stable/user_install.html\n",
      "  from .autonotebook import tqdm as notebook_tqdm\n",
      "Replacing layers...: 100%|██████████| 32/32 [00:02<00:00, 15.76it/s]\n",
      "Fusing layers...: 100%|██████████| 32/32 [00:02<00:00, 15.43it/s]\n"
     ]
    }
   ],
   "source": [
    "import os\n",
    "os.environ['CUDA_VISIBLE_DEVICES'] = '3'\n",
    "\n",
    "import torch \n",
    "from transformers import AwqConfig, AutoTokenizer, AutoModelForCausalLM, TextStreamer, GenerationConfig, BitsAndBytesConfig\n",
    "from awq import AutoAWQForCausalLM\n",
    "\n",
    "\n",
    "base_path = '/data/sonald/ai_models/model_weights'\n",
    "model_name = 'TheBloke/Mistral-7B-Instruct-v0.2-AWQ'\n",
    "\n",
    "use_fuse = True \n",
    "\n",
    "if use_fuse:\n",
    "    model_path = os.path.join(base_path, model_name)\n",
    "    model = AutoAWQForCausalLM.from_quantized(model_path, safetensors=True, device_map='auto')\n",
    "else:\n",
    "    model_name = 'Mistral-7B-v0.1'\n",
    "    model_path = os.path.join(base_path, model_name)\n",
    "    awq_config = AwqConfig(\n",
    "        bits=4,\n",
    "        do_fuse=True,\n",
    "        fuse_max_seq_len=512,\n",
    "    )\n",
    "\n",
    "    # model = AutoModelForCausalLM.from_pretrained(model_path, quantization_config=awq_config, device_map='auto')\n",
    "\n",
    "    # model = AutoModelForCausalLM.from_pretrained(model_path, load_in_4bit=True,\n",
    "    #                                               torch_dtype=torch.bfloat16, device_map='auto')\n",
    "    # model = AutoModelForCausalLM.from_pretrained(model_path, load_in_8bit=True, torch_dtype=torch.bfloat16, device_map='auto')\n",
    "\n",
    "model.generation_config = GenerationConfig.from_pretrained(model_path)\n",
    "tokenizer = AutoTokenizer.from_pretrained(model_path)"
   ]
  },
  {
   "cell_type": "code",
   "execution_count": 3,
   "metadata": {},
   "outputs": [
    {
     "data": {
      "text/plain": [
       "MistralAWQForCausalLM(\n",
       "  (model): MistralForCausalLM(\n",
       "    (model): LlamaLikeModel(\n",
       "      (embedding): Embedding(32000, 4096, padding_idx=0)\n",
       "      (norm): MistralRMSNorm()\n",
       "    )\n",
       "    (lm_head): Linear(in_features=4096, out_features=32000, bias=False)\n",
       "  )\n",
       ")"
      ]
     },
     "execution_count": 3,
     "metadata": {},
     "output_type": "execute_result"
    }
   ],
   "source": [
    "model"
   ]
  },
  {
   "cell_type": "code",
   "execution_count": 4,
   "metadata": {},
   "outputs": [],
   "source": [
    "from time import time\n",
    "from typing import List \n",
    "\n",
    "streamer = TextStreamer(tokenizer)\n",
    "\n",
    "def predict(prompt: str, max_length=2048):\n",
    "    chat = [{'role': 'user', 'content': prompt}]\n",
    "    input_ids = tokenizer.apply_chat_template(chat, tokenize=True, add_generation_prompt=True,\n",
    "                                                return_tensors='pt').to('cuda')\n",
    "\n",
    "    outputs = model.generate(input_ids, streamer=streamer, max_new_tokens=max_length,\n",
    "                              do_sample=True, use_cache=True,\n",
    "                              top_k=50, top_p=0.95, num_return_sequences=1)\n",
    "    response = tokenizer.batch_decode(outputs, skip_special_tokens=True)\n",
    "    print(f\"tokens: #{len(outputs[0])}\")\n",
    "    return response\n"
   ]
  },
  {
   "cell_type": "code",
   "execution_count": 5,
   "metadata": {},
   "outputs": [
    {
     "name": "stdout",
     "output_type": "stream",
     "text": [
      "<s> [INST] write a bottom-up mergesort in rust [/INST] Merge sort is a divide-and-conquer algorithm, but it can also be implemented bottom-up. Here's a possible implementation of bottom-up merge sort in Rust.\n",
      "\n",
      "```rust\n",
      "fn merge<T: Ord + Clone>(left: Vec<T>, right: Vec<T>) -> Vec<T> {\n",
      "   let mut result = Vec::new();\n",
      "   let mut i = 0;\n",
      "   let mut j = 0;\n",
      "\n",
      "   while i < left.len() && j < right.len() {\n",
      "       if left[i] <= right[j] {\n",
      "           result.push(left[i]);\n",
      "           i += 1;\n",
      "       } else {\n",
      "           result.push(right[j]);\n",
      "           j += 1;\n",
      "       }\n",
      "   }\n",
      "\n",
      "   while i < left.len() {\n",
      "       result.push(left[i]);\n",
      "       i += 1;\n",
      "   }\n",
      "\n",
      "   while j < right.len() {\n",
      "       result.push(right[j]);\n",
      "       j += 1;\n",
      "   }\n",
      "\n",
      "   result\n",
      "}\n",
      "\n",
      "fn merge_sort<T: Ord + Clone>(arr: &[T]) -> Vec<T> {\n",
      "   let len = arr.len();\n",
      "   if len <= 1 {\n",
      "       return arr.to_vec();\n",
      "   }\n",
      "\n",
      "   let half = len / 2;\n",
      "\n",
      "   let left = merge_sort(&arr[..half]));\n",
      "   let right = merge_sort(&arr[half..]);\n",
      "\n",
      "   merge(left, right)\n",
      "}\n",
      "\n",
      "fn main() {\n",
      "   let arr = vec![3, 4, 1, 5, 2];\n",
      "   println!(\"Unsorted array: {:?}\", arr);\n",
      "   let sorted_arr = merge_sort(&arr);\n",
      "   println!(\"Sorted array: {:?}\", sorted_arr);\n",
      "}\n",
      "```\n",
      "\n",
      "This implementation follows the steps below:\n",
      "\n",
      "1. The `merge` function merges two sorted lists (vectors) into a single sorted list (vector).\n",
      "2. The `merge_sort` function recursively sorts the input vector using merge sort algorithm. The base cases of the recursion are when the vector has 0 or 1 element.\n",
      "3. The `main`\n",
      "tokens: #530\n"
     ]
    }
   ],
   "source": [
    "from pprint import pprint\n",
    "resp = predict(\"write a bottom-up mergesort in rust\", max_length=512)"
   ]
  },
  {
   "cell_type": "code",
   "execution_count": 6,
   "metadata": {},
   "outputs": [
    {
     "name": "stdout",
     "output_type": "stream",
     "text": [
      "F.log_softmax(x, dim=-1)=tensor([[-4.1412, -2.8746, -0.4035, -2.4222, -4.0292, -4.7133, -3.2348, -2.2554],\n",
      "        [-1.1047, -1.5318, -2.9772, -2.8089, -2.9890, -4.1603, -3.9602, -1.3612]])\n",
      "F.softmax(x, dim=-1)=tensor([[0.0159, 0.0564, 0.6680, 0.0887, 0.0178, 0.0090, 0.0394, 0.1048],\n",
      "        [0.3313, 0.2161, 0.0509, 0.0603, 0.0503, 0.0156, 0.0191, 0.2563]])\n"
     ]
    }
   ],
   "source": [
    "import torch.nn.functional as F\n",
    "x = torch.randn(2, 8)\n",
    "print(f\"{F.log_softmax(x, dim=-1)=}\")\n",
    "print(f\"{F.softmax(x, dim=-1)=}\")"
   ]
  },
  {
   "cell_type": "code",
   "execution_count": 7,
   "metadata": {},
   "outputs": [
    {
     "name": "stdout",
     "output_type": "stream",
     "text": [
      "(6, 96, 96, 3) float64\n"
     ]
    },
    {
     "data": {
      "text/plain": [
       "tensor([[[1, 6, 8, 1, 2, 6, 5, 5],\n",
       "         [6, 6, 7, 3, 1, 8, 7, 3],\n",
       "         [0, 3, 1, 0, 7, 3, 3, 8],\n",
       "         [7, 9, 4, 6, 9, 0, 2, 4],\n",
       "         [7, 8, 1, 9, 8, 6, 6, 6],\n",
       "         [5, 4, 1, 5, 8, 5, 5, 4],\n",
       "         [9, 6, 6, 6, 2, 2, 0, 1],\n",
       "         [1, 8, 8, 3, 9, 4, 9, 8]],\n",
       "\n",
       "        [[6, 8, 6, 5, 2, 5, 1, 2],\n",
       "         [8, 6, 4, 9, 8, 9, 4, 8],\n",
       "         [6, 2, 3, 9, 9, 6, 9, 0],\n",
       "         [0, 7, 3, 2, 0, 0, 0, 8],\n",
       "         [7, 4, 4, 7, 3, 4, 1, 4],\n",
       "         [9, 4, 2, 2, 8, 4, 1, 3],\n",
       "         [2, 0, 3, 9, 3, 7, 4, 8],\n",
       "         [7, 5, 3, 5, 1, 5, 8, 2]]])"
      ]
     },
     "execution_count": 7,
     "metadata": {},
     "output_type": "execute_result"
    }
   ],
   "source": [
    "import torch\n",
    "import numpy\n",
    "from einops import rearrange, reduce, repeat\n",
    "from utils import display_np_arrays_as_images\n",
    "\n",
    "display_np_arrays_as_images()\n",
    "\n",
    "ims = numpy.load('./einops/docs/resources/test_images.npy', allow_pickle=False)\n",
    "# There are 6 images of shape 96x96 with 3 color channels packed into tensor\n",
    "print(ims.shape, ims.dtype)\n",
    "\n",
    "x = torch.randint(0, 10, (2, 8, 8))\n",
    "x"
   ]
  },
  {
   "cell_type": "code",
   "execution_count": 8,
   "metadata": {},
   "outputs": [],
   "source": [
    "# print(rearrange(x, 'b h (w1 w2) -> b h w1 w2', w1=2))\n",
    "# print(rearrange(x, 'b h (w1 w2) -> b (h w1) w2', w1=2))\n",
    "# print(rearrange(x, 'b h (w1 w2) -> (h w1) b w2', w1=2))\n",
    "# rearrange(x, 'b h (w1 w2) -> (h w1) (b w2)', w1=2)\n",
    "\n",
    "# rearrange(x, 'b h (w1 w2) -> b h w1 w2', w1=2)\n"
   ]
  },
  {
   "cell_type": "code",
   "execution_count": 9,
   "metadata": {},
   "outputs": [
    {
     "data": {
      "text/plain": [
       "tensor([[1],\n",
       "        [2],\n",
       "        [3]])"
      ]
     },
     "execution_count": 9,
     "metadata": {},
     "output_type": "execute_result"
    }
   ],
   "source": [
    "x2 = torch.tensor([1,2,3])\n",
    "rearrange(x2, '(r g b) -> (r g b) 1', r=1,g=1)"
   ]
  },
  {
   "cell_type": "code",
   "execution_count": 10,
   "metadata": {},
   "outputs": [
    {
     "data": {
      "image/png": "[encoded data removed]",
      "text/plain": []
     },
     "execution_count": 10,
     "metadata": {},
     "output_type": "execute_result"
    }
   ],
   "source": [
    "repeat(ims, 'b h w c -> (repeat h) (b w) c', repeat=2)"
   ]
  },
  {
   "cell_type": "code",
   "execution_count": 11,
   "metadata": {},
   "outputs": [
    {
     "data": {
      "image/png": "[encoded data removed]",
      "text/plain": []
     },
     "execution_count": 11,
     "metadata": {},
     "output_type": "execute_result"
    }
   ],
   "source": [
    "rearrange(ims, 'b h (w1 w2) c -> (h w2) (b w1) c', w2=2)"
   ]
  },
  {
   "cell_type": "code",
   "execution_count": 12,
   "metadata": {},
   "outputs": [
    {
     "data": {
      "image/png": "[encoded data removed]",
      "text/plain": []
     },
     "execution_count": 12,
     "metadata": {},
     "output_type": "execute_result"
    }
   ],
   "source": [
    "rearrange(ims, 'b (h1 h2) w c -> (b h1) h2 w c', h2=48)[0]"
   ]
  },
  {
   "cell_type": "code",
   "execution_count": 13,
   "metadata": {},
   "outputs": [
    {
     "data": {
      "image/png": "[encoded data removed]",
      "text/plain": []
     },
     "execution_count": 13,
     "metadata": {},
     "output_type": "execute_result"
    }
   ],
   "source": [
    "rearrange(ims, 'b (h1 h2) w c -> h2 (b h1 w) c', h2=48)"
   ]
  },
  {
   "cell_type": "code",
   "execution_count": 14,
   "metadata": {},
   "outputs": [
    {
     "data": {
      "image/png": "[encoded data removed]",
      "text/plain": []
     },
     "execution_count": 14,
     "metadata": {},
     "output_type": "execute_result"
    }
   ],
   "source": [
    "rearrange(ims, 'b (h1 h2) w c -> h2 (h1 b w) c', h2=48)"
   ]
  },
  {
   "cell_type": "code",
   "execution_count": 15,
   "metadata": {},
   "outputs": [
    {
     "data": {
      "image/png": "[encoded data removed]",
      "text/plain": []
     },
     "execution_count": 15,
     "metadata": {},
     "output_type": "execute_result"
    }
   ],
   "source": [
    "rearrange(ims, 'b h (w1 w2) c -> (b w1) (h w2) c', w2=2)"
   ]
  },
  {
   "cell_type": "code",
   "execution_count": 16,
   "metadata": {},
   "outputs": [
    {
     "data": {
      "image/png": "[encoded data removed]",
      "text/plain": []
     },
     "execution_count": 16,
     "metadata": {},
     "output_type": "execute_result"
    }
   ],
   "source": [
    "# rearrange(ims[0], '(h1 h2) (w1 w2) c -> (h1 w2) (w1 h2) c', h1=12, w1=12)\n",
    "reduce(ims[0], '(h1 h2) (w1 w2) c -> h1 w1 c', 'mean', h2=2, w2=2)"
   ]
  },
  {
   "cell_type": "code",
   "execution_count": 17,
   "metadata": {},
   "outputs": [
    {
     "data": {
      "image/png": "[encoded data removed]",
      "text/plain": []
     },
     "execution_count": 17,
     "metadata": {},
     "output_type": "execute_result"
    }
   ],
   "source": [
    "reduce(ims, '(b1 b2) h w c -> (b1 h) (b2 w)', 'mean', b1=2)"
   ]
  },
  {
   "cell_type": "code",
   "execution_count": 18,
   "metadata": {},
   "outputs": [
    {
     "data": {
      "image/png": "[encoded data removed]",
      "text/plain": []
     },
     "execution_count": 18,
     "metadata": {},
     "output_type": "execute_result"
    }
   ],
   "source": [
    "a = rearrange(ims, '(b1 b2) h w c -> (b1 h) (b2 w) c', b1=2)\n",
    "a[:, :, 1:3] = 0\n",
    "a\n",
    "\n",
    "# repeat(a, 'h w c -> h w (l c)', l=3)"
   ]
  },
  {
   "cell_type": "code",
   "execution_count": 24,
   "metadata": {},
   "outputs": [
    {
     "name": "stdout",
     "output_type": "stream",
     "text": [
      "selected_experts=tensor([[6, 4],\n",
      "        [5, 5],\n",
      "        [1, 6],\n",
      "        [0, 3],\n",
      "        [6, 1],\n",
      "        [6, 2],\n",
      "        [4, 4],\n",
      "        [5, 5],\n",
      "        [5, 0],\n",
      "        [6, 2],\n",
      "        [7, 3],\n",
      "        [5, 1],\n",
      "        [2, 7],\n",
      "        [3, 5],\n",
      "        [5, 2],\n",
      "        [3, 7],\n",
      "        [2, 0],\n",
      "        [5, 4],\n",
      "        [5, 4],\n",
      "        [2, 2]])\n",
      "expert_mask=tensor([[[0, 0, 0, 1, 0, 0, 0, 0, 0, 0, 0, 0, 0, 0, 0, 0, 0, 0, 0, 0],\n",
      "         [0, 0, 0, 0, 0, 0, 0, 0, 1, 0, 0, 0, 0, 0, 0, 0, 1, 0, 0, 0]],\n",
      "\n",
      "        [[0, 0, 1, 0, 0, 0, 0, 0, 0, 0, 0, 0, 0, 0, 0, 0, 0, 0, 0, 0],\n",
      "         [0, 0, 0, 0, 1, 0, 0, 0, 0, 0, 0, 1, 0, 0, 0, 0, 0, 0, 0, 0]],\n",
      "\n",
      "        [[0, 0, 0, 0, 0, 0, 0, 0, 0, 0, 0, 0, 1, 0, 0, 0, 1, 0, 0, 1],\n",
      "         [0, 0, 0, 0, 0, 1, 0, 0, 0, 1, 0, 0, 0, 0, 1, 0, 0, 0, 0, 1]],\n",
      "\n",
      "        [[0, 0, 0, 0, 0, 0, 0, 0, 0, 0, 0, 0, 0, 1, 0, 1, 0, 0, 0, 0],\n",
      "         [0, 0, 0, 1, 0, 0, 0, 0, 0, 0, 1, 0, 0, 0, 0, 0, 0, 0, 0, 0]],\n",
      "\n",
      "        [[0, 0, 0, 0, 0, 0, 1, 0, 0, 0, 0, 0, 0, 0, 0, 0, 0, 0, 0, 0],\n",
      "         [1, 0, 0, 0, 0, 0, 1, 0, 0, 0, 0, 0, 0, 0, 0, 0, 0, 1, 1, 0]],\n",
      "\n",
      "        [[0, 1, 0, 0, 0, 0, 0, 1, 1, 0, 0, 1, 0, 0, 1, 0, 0, 1, 1, 0],\n",
      "         [0, 1, 0, 0, 0, 0, 0, 1, 0, 0, 0, 0, 0, 1, 0, 0, 0, 0, 0, 0]],\n",
      "\n",
      "        [[1, 0, 0, 0, 1, 1, 0, 0, 0, 1, 0, 0, 0, 0, 0, 0, 0, 0, 0, 0],\n",
      "         [0, 0, 1, 0, 0, 0, 0, 0, 0, 0, 0, 0, 0, 0, 0, 0, 0, 0, 0, 0]],\n",
      "\n",
      "        [[0, 0, 0, 0, 0, 0, 0, 0, 0, 0, 1, 0, 0, 0, 0, 0, 0, 0, 0, 0],\n",
      "         [0, 0, 0, 0, 0, 0, 0, 0, 0, 0, 0, 0, 1, 0, 0, 1, 0, 0, 0, 0]]])\n"
     ]
    }
   ],
   "source": [
    "selected_experts = torch.randint(0, 8, (4 * 5, 2))\n",
    "expert_mask = torch.nn.functional.one_hot(selected_experts, num_classes=8)\n",
    "expert_mask = rearrange(expert_mask, 'b n e -> e n b')\n",
    "print(f\"{selected_experts=}\")\n",
    "print(f\"{expert_mask=}\")"
   ]
  },
  {
   "cell_type": "code",
   "execution_count": 1,
   "metadata": {},
   "outputs": [],
   "source": [
    "import torch\n",
    "from einops import rearrange\n",
    "\n",
    "NEG_INF = -1e10  # -infinity\n",
    "EPSILON = 1e-10\n",
    "\n",
    "Q_LEN = 6\n",
    "K_LEN = 6\n",
    "Q_BLOCK_SIZE = 3 # \n",
    "KV_BLOCK_SIZE = 3\n",
    "Tr = Q_LEN // Q_BLOCK_SIZE\n",
    "Tc = K_LEN // KV_BLOCK_SIZE\n",
    "\n",
    "Q = torch.randn(1, 1, Q_LEN, 4, requires_grad=True).to(device='cpu')\n",
    "K = torch.randn(1, 1, K_LEN, 4, requires_grad=True).to(device='cpu')\n",
    "V = torch.randn(1, 1, K_LEN, 4, requires_grad=True).to(device='cpu')\n",
    "O = torch.zeros_like(Q, requires_grad=True)\n",
    "l = torch.zeros(Q.shape[:-1])[..., None]\n",
    "m = torch.ones(Q.shape[:-1])[..., None] * NEG_INF"
   ]
  },
  {
   "cell_type": "code",
   "execution_count": 4,
   "metadata": {},
   "outputs": [],
   "source": [
    "Q_BLOCKS = torch.split(Q, Q_BLOCK_SIZE, dim=2)\n",
    "K_BLOCKS = torch.split(K, KV_BLOCK_SIZE, dim=2)\n",
    "V_BLOCKS = torch.split(V, KV_BLOCK_SIZE, dim=2)\n",
    "O_BLOCKS = list(torch.split(O, Q_BLOCK_SIZE, dim=2))\n",
    "l_BLOCKS = list(torch.split(l, Q_BLOCK_SIZE, dim=2))\n",
    "m_BLOCKS = list(torch.split(m, Q_BLOCK_SIZE, dim=2))"
   ]
  },
  {
   "cell_type": "code",
   "execution_count": 29,
   "metadata": {},
   "outputs": [
    {
     "data": {
      "text/plain": [
       "tensor([[[[-0.2759, -1.7694,  0.8443],\n",
       "          [-1.8048, -1.0213, -1.2595],\n",
       "          [ 1.6117, -0.7968,  2.0172]]]], grad_fn=<ViewBackward0>)"
      ]
     },
     "execution_count": 29,
     "metadata": {},
     "output_type": "execute_result"
    }
   ],
   "source": [
    "K0 = K_BLOCKS[0]\n",
    "V0 = V_BLOCKS[0]\n",
    "Q0 = Q_BLOCKS[0]\n",
    "\n",
    "S00 = torch.einsum('b h q d, b h k d -> b h q k', Q0, K0)\n",
    "S00"
   ]
  },
  {
   "cell_type": "code",
   "execution_count": 32,
   "metadata": {},
   "outputs": [
    {
     "data": {
      "text/plain": [
       "tensor([[[[ 0.8443],\n",
       "          [-1.0213],\n",
       "          [ 2.0172]]]], grad_fn=<MaxBackward0>)"
      ]
     },
     "execution_count": 32,
     "metadata": {},
     "output_type": "execute_result"
    }
   ],
   "source": [
    "torch.max(S00, dim=-1, keepdim=True)[0]"
   ]
  }
 ],
 "metadata": {
  "kernelspec": {
   "display_name": "vllm",
   "language": "python",
   "name": "python3"
  },
  "language_info": {
   "codemirror_mode": {
    "name": "ipython",
    "version": 3
   },
   "file_extension": ".py",
   "mimetype": "text/x-python",
   "name": "python",
   "nbconvert_exporter": "python",
   "pygments_lexer": "ipython3",
   "version": "3.10.13"
  }
 },
 "nbformat": 4,
 "nbformat_minor": 2
}
